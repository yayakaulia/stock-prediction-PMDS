{
 "cells": [
  {
   "cell_type": "code",
   "execution_count": 23,
   "metadata": {},
   "outputs": [],
   "source": [
    "from sklearn.model_selection import RandomizedSearchCV, GridSearchCV\n",
    "from sklearn.ensemble import RandomForestRegressor\n",
    "from sklearn.linear_model import Ridge\n",
    "from sklearn.linear_model import Lasso\n",
    "from sklearn.svm import LinearSVR\n",
    "from sklearn import metrics\n",
    "from sklearn.model_selection import TimeSeriesSplit\n",
    "import yaml\n",
    "import pandas as pd\n",
    "import numpy as np\n",
    "import joblib\n",
    "import model_search\n",
    "import model_lib\n",
    "\n",
    "ts_cv = TimeSeriesSplit(\n",
    "    n_splits=5,\n",
    "    max_train_size=None,\n",
    ")\n",
    "f = open(\"params.yaml\", \"r\")\n",
    "params = yaml.load(f, Loader=yaml.SafeLoader)\n",
    "f.close()"
   ]
  },
  {
   "cell_type": "code",
   "execution_count": 28,
   "metadata": {},
   "outputs": [],
   "source": [
    "def training_model():\n",
    "\n",
    "    #read data\n",
    "    x_train, y_train, x_valid, y_valid = model_lib.read_data(params)\n",
    "\n",
    "    ridge = [Ridge(random_state=42), model_lib.model_ridge]\n",
    "    lasso = [Lasso(random_state=42), model_lib.model_lasso]\n",
    "    rf = [RandomForestRegressor(random_state=42), model_lib.model_rf]\n",
    "    svr = [LinearSVR(random_state=42), model_lib.model_svr]\n",
    "\n",
    "    # define model\n",
    "    model = eval(joblib.load(params['BEST_NAME']))[0]\n",
    "    alpa = eval(joblib.load(params['BEST_NAME']))[1]\n",
    "\n",
    "    scoring = 'neg_root_mean_squared_error'\n",
    "\n",
    "    # define search\n",
    "    search = GridSearchCV(model, alpa(), scoring=scoring, n_jobs=-1, cv=ts_cv)\n",
    "\n",
    "    # execute search\n",
    "    result = search.fit(x_train, y_train)\n",
    "    validation_result = model_lib.validation_score(x_valid, y_valid, result)\n",
    "    \n",
    "    print('validation score: %s' % validation_result)\n",
    "\n",
    "    # Dump model name\n",
    "    joblib.dump(model, f'output/model_name.pkl')\n",
    "    # Dump best model estimator with best param\n",
    "    joblib.dump(result.best_estimator_, 'output/best_estimator.pkl')\n",
    "    # summarize result\n",
    "    joblib.dump(result, 'output/result.pkl')"
   ]
  },
  {
   "cell_type": "code",
   "execution_count": 29,
   "metadata": {},
   "outputs": [
    {
     "name": "stdout",
     "output_type": "stream",
     "text": [
      "validation score: {'mae': 319.0197116219636, 'mse': 106897.04693589598, 'rmse': 326.9511384532802, 'r2': -4.8944423828602}\n"
     ]
    }
   ],
   "source": [
    "training_model()"
   ]
  }
 ],
 "metadata": {
  "interpreter": {
   "hash": "49de8e361bcaa7b87b0d9a1948e17b94b1b6765468a847b75af4a4273d6c7723"
  },
  "kernelspec": {
   "display_name": "Python 3.8.10 64-bit (windows store)",
   "language": "python",
   "name": "python3"
  },
  "language_info": {
   "codemirror_mode": {
    "name": "ipython",
    "version": 3
   },
   "file_extension": ".py",
   "mimetype": "text/x-python",
   "name": "python",
   "nbconvert_exporter": "python",
   "pygments_lexer": "ipython3",
   "version": "3.8.10"
  },
  "orig_nbformat": 4
 },
 "nbformat": 4,
 "nbformat_minor": 2
}
