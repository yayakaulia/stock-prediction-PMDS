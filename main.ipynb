{
 "cells": [
  {
   "cell_type": "code",
   "execution_count": 27,
   "metadata": {},
   "outputs": [
    {
     "name": "stdout",
     "output_type": "stream",
     "text": [
      "Running on splitting...\n"
     ]
    }
   ],
   "source": [
    "import numpy as np\n",
    "import pandas as pd\n",
    "import joblib\n",
    "import yaml\n",
    "from read_data import read_data, split_input_output, x_split, y_split\n",
    "import preprocessing\n",
    "#import preprocess_data as ppr\n",
    "#import training\n",
    "#import testing\n",
    "\n",
    "#Open yaml\n",
    "f = open(\"params.yaml\", \"r\")\n",
    "params = yaml.load(f, Loader=yaml.SafeLoader)\n",
    "f.close()\n",
    "\n",
    "#Splitting Data\n",
    "print(\"Running on splitting...\")\n",
    "DATA_PATH = \"data/AMRT.csv\"\n",
    "DATA_PATH_IHSG = \"data/ihsg.csv\"\n",
    "TARGET_COLUMN = \"Close+1\"\n",
    "INDEX_COLUMN = \"Date\"\n",
    "\n",
    "data_house = read_data(DATA_PATH, DATA_PATH_IHSG,\n",
    "                       set_index = INDEX_COLUMN)\n",
    "output_df, input_df = split_input_output(\n",
    "                            data_house,\n",
    "                            TARGET_COLUMN)\n",
    "\n",
    "X_train, X_valid, X_test = x_split(input_df)\n",
    "y_train, y_valid, y_test = y_split(output_df)\n"
   ]
  },
  {
   "cell_type": "code",
   "execution_count": 3,
   "metadata": {},
   "outputs": [
    {
     "name": "stdout",
     "output_type": "stream",
     "text": [
      "Running on feature engineering TRAIN...\n",
      "Running on feature engineering VALID...\n",
      "Running on feature engineering TEST...\n"
     ]
    }
   ],
   "source": [
    "temp = ['TRAIN','VALID','TEST']\n",
    "\n",
    "#Feature Engineering\n",
    "\n",
    "for subgroup in temp:\n",
    "    print(f\"Running on feature engineering {subgroup}...\")\n",
    "    xpath = params[f'X_PATH_{subgroup}']\n",
    "    ypath = params[f'Y_PATH_{subgroup}']\n",
    "    dump_path = params[f'DUMP_{subgroup}']\n",
    "    #ppr.run(params, xpath, ypath, dump_path)"
   ]
  },
  {
   "cell_type": "code",
   "execution_count": 10,
   "metadata": {},
   "outputs": [],
   "source": [
    "xdata = [X_train, X_valid, X_test]\n",
    "ydata = [y_train, y_valid, y_test]"
   ]
  },
  {
   "cell_type": "code",
   "execution_count": 32,
   "metadata": {},
   "outputs": [],
   "source": [
    "def run(xpath, ypath):\n",
    "    for i in xpath:\n",
    "        for k in ypath:\n",
    "            preprocessing.process_emiten(xpath[i])\n",
    "            preprocessing.process_y(ypath[k])\n",
    "    X_train, X_valid, X_test, y_train, y_valid, y_test = preprocessing.processing_data()\n",
    "    X_train, X_valid, X_test = preprocessing.making_sma()"
   ]
  },
  {
   "cell_type": "code",
   "execution_count": 33,
   "metadata": {},
   "outputs": [
    {
     "ename": "TypeError",
     "evalue": "list indices must be integers or slices, not DataFrame",
     "output_type": "error",
     "traceback": [
      "\u001b[1;31m---------------------------------------------------------------------------\u001b[0m",
      "\u001b[1;31mTypeError\u001b[0m                                 Traceback (most recent call last)",
      "\u001b[1;32mc:\\Users\\yuha bach\\Downloads\\pmds v2\\main.ipynb Cell 5'\u001b[0m in \u001b[0;36m<cell line: 1>\u001b[1;34m()\u001b[0m\n\u001b[1;32m----> <a href='vscode-notebook-cell:/c%3A/Users/yuha%20bach/Downloads/pmds%20v2/main.ipynb#ch0000006?line=0'>1</a>\u001b[0m run(params, xdata, ydata)\n",
      "\u001b[1;32mc:\\Users\\yuha bach\\Downloads\\pmds v2\\main.ipynb Cell 4'\u001b[0m in \u001b[0;36mrun\u001b[1;34m(params, xpath, ypath)\u001b[0m\n\u001b[0;32m      <a href='vscode-notebook-cell:/c%3A/Users/yuha%20bach/Downloads/pmds%20v2/main.ipynb#ch0000005?line=1'>2</a>\u001b[0m \u001b[39mfor\u001b[39;00m i \u001b[39min\u001b[39;00m xpath:\n\u001b[0;32m      <a href='vscode-notebook-cell:/c%3A/Users/yuha%20bach/Downloads/pmds%20v2/main.ipynb#ch0000005?line=2'>3</a>\u001b[0m     \u001b[39mfor\u001b[39;00m k \u001b[39min\u001b[39;00m ypath:\n\u001b[1;32m----> <a href='vscode-notebook-cell:/c%3A/Users/yuha%20bach/Downloads/pmds%20v2/main.ipynb#ch0000005?line=3'>4</a>\u001b[0m         preprocessing\u001b[39m.\u001b[39mprocess_emiten(xpath[i])\n\u001b[0;32m      <a href='vscode-notebook-cell:/c%3A/Users/yuha%20bach/Downloads/pmds%20v2/main.ipynb#ch0000005?line=4'>5</a>\u001b[0m         preprocessing\u001b[39m.\u001b[39mprocess_y(ypath[k])\n\u001b[0;32m      <a href='vscode-notebook-cell:/c%3A/Users/yuha%20bach/Downloads/pmds%20v2/main.ipynb#ch0000005?line=5'>6</a>\u001b[0m X_train, X_valid, X_test, y_train, y_valid, y_test \u001b[39m=\u001b[39m preprocessing\u001b[39m.\u001b[39mprocessing_data()\n",
      "\u001b[1;31mTypeError\u001b[0m: list indices must be integers or slices, not DataFrame"
     ]
    }
   ],
   "source": [
    "run(params, xdata, ydata)"
   ]
  },
  {
   "cell_type": "code",
   "execution_count": null,
   "metadata": {},
   "outputs": [],
   "source": []
  }
 ],
 "metadata": {
  "interpreter": {
   "hash": "49de8e361bcaa7b87b0d9a1948e17b94b1b6765468a847b75af4a4273d6c7723"
  },
  "kernelspec": {
   "display_name": "Python 3.8.10 64-bit (windows store)",
   "language": "python",
   "name": "python3"
  },
  "language_info": {
   "codemirror_mode": {
    "name": "ipython",
    "version": 3
   },
   "file_extension": ".py",
   "mimetype": "text/x-python",
   "name": "python",
   "nbconvert_exporter": "python",
   "pygments_lexer": "ipython3",
   "version": "3.8.10"
  },
  "orig_nbformat": 4
 },
 "nbformat": 4,
 "nbformat_minor": 2
}
