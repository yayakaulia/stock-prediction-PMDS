{
 "cells": [
  {
   "cell_type": "code",
   "execution_count": 5,
   "metadata": {},
   "outputs": [],
   "source": [
    "import pandas as pd\n",
    "from sklearn.preprocessing import StandardScaler \n",
    "import joblib"
   ]
  },
  {
   "cell_type": "code",
   "execution_count": 6,
   "metadata": {},
   "outputs": [],
   "source": [
    "def make_sma(xdata):\n",
    "    periode = [5,20,60,120]\n",
    "    alpha = [0.1, 0.3]\n",
    "    for i in periode:\n",
    "        for k in alpha:\n",
    "            xdata[\"SMA_\", i] = xdata.Close.rolling(i, min_periods=1).mean()\n",
    "            xdata[\"dis_sma\", i] = xdata[\"Close\"] - xdata[\"SMA_\", i]\n",
    "            xdata[\"em_\", k] = xdata.Close.ewm(alpha=k, adjust=False).mean()\n",
    "    xdata.rename(columns = {('SMA_', 5):'SMA_5',\n",
    "                        ('SMA_', 20):'SMA_20',\n",
    "                        ('SMA_', 60): 'SMA_60', \n",
    "                        ('SMA_', 120): 'SMA_120',\n",
    "                        ('em_', 0.1): 'em_0.1',\n",
    "                        ('em_', 0.3): 'em_0.3',\n",
    "                        ('dis_sma', 5): 'dis_sam_5',\n",
    "                        ('dis_sma', 20): 'dis_sam_20',\n",
    "                        ('dis_sma', 60): 'dis_sam_60',\n",
    "                        ('dis_sma', 120): 'dis_sam_120'}, inplace = True)\n",
    "    return xdata"
   ]
  },
  {
   "cell_type": "code",
   "execution_count": 15,
   "metadata": {},
   "outputs": [],
   "source": [
    "def normalization(x_all):\n",
    "    index = x_all.index\n",
    "    cols = x_all.columns\n",
    "    normalizer = StandardScaler()\n",
    "    normalizer.fit(x_all)        \n",
    "    normalized = normalizer.transform(x_all)\n",
    "    normalized = pd.DataFrame(normalized)\n",
    "    normalized.index = index\n",
    "    normalized.columns = cols\n",
    "    return normalized"
   ]
  },
  {
   "cell_type": "code",
   "execution_count": 16,
   "metadata": {},
   "outputs": [],
   "source": [
    "def making_sma(save_file=True, return_file=True):\n",
    "    X_train = normalization(make_sma(joblib.load(\"output/X_train_proceed.pkl\")))\n",
    "    X_valid = normalization(make_sma(joblib.load(\"output/X_valid_proceed.pkl\")))\n",
    "    X_test = normalization(make_sma(joblib.load(\"output/X_test_proceed.pkl\")))\n",
    "    \n",
    "    if save_file:\n",
    "        joblib.dump(X_train, \"output/X_train_final.pkl\")\n",
    "        joblib.dump(X_valid, \"output/X_valid_final.pkl\")\n",
    "        joblib.dump(X_test, \"output/X_test_final.pkl\")\n",
    "    if return_file:\n",
    "        X_train, X_valid, X_test"
   ]
  },
  {
   "cell_type": "code",
   "execution_count": 17,
   "metadata": {},
   "outputs": [],
   "source": [
    "making_sma()"
   ]
  }
 ],
 "metadata": {
  "interpreter": {
   "hash": "49de8e361bcaa7b87b0d9a1948e17b94b1b6765468a847b75af4a4273d6c7723"
  },
  "kernelspec": {
   "display_name": "Python 3.8.10 64-bit (windows store)",
   "language": "python",
   "name": "python3"
  },
  "language_info": {
   "codemirror_mode": {
    "name": "ipython",
    "version": 3
   },
   "file_extension": ".py",
   "mimetype": "text/x-python",
   "name": "python",
   "nbconvert_exporter": "python",
   "pygments_lexer": "ipython3",
   "version": "3.8.10"
  },
  "orig_nbformat": 4
 },
 "nbformat": 4,
 "nbformat_minor": 2
}
