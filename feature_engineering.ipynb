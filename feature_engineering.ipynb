{
 "cells": [
  {
   "cell_type": "code",
   "execution_count": 1,
   "metadata": {},
   "outputs": [],
   "source": [
    "import pandas as pd\n",
    "import numpy as np \n",
    "import joblib"
   ]
  },
  {
   "cell_type": "code",
   "execution_count": null,
   "metadata": {},
   "outputs": [],
   "source": [
    "# Creating Simple Moving Average (SMA), or lagdays, Feature in 4 periode 5, 20, 60, 120 days\n",
    "def SMA(feature_sma):\n",
    "    feature_smas = []\n",
    "    periode = [5,20,60,120]\n",
    "    for i in periode:\n",
    "        feature_sma[\"SMA_\", i] = feature_sma.Close.rolling(i, min_periods=1).mean()\n",
    "    return feature_sma.append(feature_smas)"
   ]
  },
  {
   "cell_type": "code",
   "execution_count": null,
   "metadata": {},
   "outputs": [],
   "source": [
    "# Creating Exponen Moving Average (EMA), Feature in 0.1 and 0.3 alpha\n",
    "\n",
    "def EMA(feature_ema):\n",
    "    feature_emas = []\n",
    "    periodes = [0.1, 0.3]\n",
    "    for i in periodes:\n",
    "        feature_ema[\"em_\", i] = feature_ema.Close.ewm(alpha=i, adjust=False).mean()\n",
    "    return feature_ema.append(feature_emas)"
   ]
  },
  {
   "cell_type": "code",
   "execution_count": null,
   "metadata": {},
   "outputs": [],
   "source": [
    "def dis_sma(feature_dis):\n",
    "    feature_dis_get = []\n",
    "    periode = [5,20,60,120]\n",
    "    for i in periode:\n",
    "        feature_dis[\"dis_sma\", i] = feature_dis[\"Close\"] - SMA(feature_dis)[\"SMA_\", i]\n",
    "    return feature_dis.append(feature_dis_get)"
   ]
  }
 ],
 "metadata": {
  "interpreter": {
   "hash": "409f3fa671dd4c6947dbff9f29c9a7c34dc2c0b74800bf9cc8e3282d295632e5"
  },
  "kernelspec": {
   "display_name": "Python 3.8.10 64-bit (windows store)",
   "language": "python",
   "name": "python3"
  },
  "language_info": {
   "codemirror_mode": {
    "name": "ipython",
    "version": 3
   },
   "file_extension": ".py",
   "mimetype": "text/x-python",
   "name": "python",
   "nbconvert_exporter": "python",
   "pygments_lexer": "ipython3",
   "version": "3.8.10"
  },
  "orig_nbformat": 4
 },
 "nbformat": 4,
 "nbformat_minor": 2
}
