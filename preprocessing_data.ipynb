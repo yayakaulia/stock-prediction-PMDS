{
 "cells": [
  {
   "cell_type": "code",
   "execution_count": 2,
   "metadata": {},
   "outputs": [],
   "source": [
    "import numpy as np\n",
    "import pandas as pd\n",
    "import joblib"
   ]
  },
  {
   "cell_type": "code",
   "execution_count": 3,
   "metadata": {},
   "outputs": [],
   "source": [
    "def process_emiten(proceed):\n",
    "    proceed = proceed.drop(['Open_x', 'Open_y', 'High_x', 'High_y', 'Low_x', 'Low_y', 'Adj Close_x', 'Adj Close_y'], axis = 1)\n",
    "    proceed.rename(columns = {'Close_x':'Close', 'Volume_x':'Volume', 'Close_y':'Close_ihsg', 'Volume_y':'Volume_ihsg'}, inplace = True)\n",
    "    proceed[\"Volume\"].replace(to_replace=0, method='bfill')\n",
    "    proceed[\"Volume_ihsg\"].replace(to_replace=0, method='bfill')\n",
    "    proceed.replace(to_replace=0, method='bfill')\n",
    "    return proceed\n",
    "\n",
    "def process_y(y_data):\n",
    "    y_data.replace(to_replace=0, method='bfill')\n",
    "    return y_data"
   ]
  },
  {
   "cell_type": "code",
   "execution_count": 4,
   "metadata": {},
   "outputs": [],
   "source": [
    "def processing_data(save_file=True, return_file=True):\n",
    "    X_train = process_emiten(joblib.load(\"output/X_train.pkl\"))\n",
    "    X_valid = process_emiten(joblib.load(\"output/X_valid.pkl\"))\n",
    "    X_test = process_emiten(joblib.load(\"output/X_test.pkl\"))\n",
    "    y_train = process_y(joblib.load(\"output/y_train.pkl\"))\n",
    "    y_valid = process_y(joblib.load(\"output/y_valid.pkl\"))\n",
    "    y_test = process_y(joblib.load(\"output/y_test.pkl\"))\n",
    "    \n",
    "    if save_file:\n",
    "        joblib.dump(X_train, \"output/X_train_proceed.pkl\")\n",
    "        joblib.dump(X_valid, \"output/X_valid_proceed.pkl\")\n",
    "        joblib.dump(X_test, \"output/X_test_proceed.pkl\")\n",
    "        joblib.dump(y_train, \"output/y_train_final.pkl\")\n",
    "        joblib.dump(y_valid, \"output/y_valid_final.pkl\")\n",
    "        joblib.dump(y_test, \"output/y_test_final.pkl\")\n",
    "    if return_file:\n",
    "        X_train, X_valid, X_test, y_train, y_valid, y_test\n",
    "    "
   ]
  }
 ],
 "metadata": {
  "interpreter": {
   "hash": "49de8e361bcaa7b87b0d9a1948e17b94b1b6765468a847b75af4a4273d6c7723"
  },
  "kernelspec": {
   "display_name": "Python 3.8.10 64-bit (windows store)",
   "language": "python",
   "name": "python3"
  },
  "language_info": {
   "codemirror_mode": {
    "name": "ipython",
    "version": 3
   },
   "file_extension": ".py",
   "mimetype": "text/x-python",
   "name": "python",
   "nbconvert_exporter": "python",
   "pygments_lexer": "ipython3",
   "version": "3.8.10"
  },
  "orig_nbformat": 4
 },
 "nbformat": 4,
 "nbformat_minor": 2
}
