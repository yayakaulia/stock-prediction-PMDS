{
 "cells": [
  {
   "cell_type": "code",
   "execution_count": 1,
   "metadata": {},
   "outputs": [],
   "source": [
    "import numpy as np\n",
    "import pandas as pd\n",
    "import model_lib\n",
    "import joblib\n",
    "import yaml\n",
    "from sklearn.linear_model import Ridge\n",
    "from sklearn.linear_model import Lasso\n",
    "from sklearn.ensemble import RandomForestRegressor\n",
    "from sklearn.svm import LinearSVR\n",
    "from sklearn.model_selection import GridSearchCV\n",
    "from sklearn import metrics\n",
    "\n",
    "f = open(\"params.yaml\", \"r\")\n",
    "params = yaml.load(f, Loader=yaml.SafeLoader)\n",
    "f.close()\n",
    "\n",
    "def read_data_test(params):\n",
    "    x_test = joblib.load(params['DUMP_TEST'])\n",
    "    y_test = joblib.load(params['Y_PATH_TEST'])\n",
    "\n",
    "    return x_test, y_test\n",
    "\n",
    "def main(params):\n",
    "    model_name = joblib.load(params['MODEL_NAME'])\n",
    "    print(f\"Working on test data with {model_name} model\")\n",
    "    \n",
    "    main_model = joblib.load(params['BEST_MODEL'])\n",
    "    \n",
    "    test_log_dict = {'model': [main_model],\n",
    "                  'model_name': [model_name],\n",
    "                  'model_score': []}\n",
    "\n",
    "    x_test, y_test  = read_data_test(params)\n",
    "    score = model_lib.validation_score(x_test, y_test, main_model)\n",
    "    test_log_dict['model_score'].append(score)\n",
    "    joblib.dump(test_log_dict, 'output/test_log.pkl')\n",
    "    print(\n",
    "        f\"Model: {test_log_dict['model_name']},\\n Score: {test_log_dict['model_score']},\\n Model's parameter: {test_log_dict['model']}\")"
   ]
  },
  {
   "cell_type": "code",
   "execution_count": 2,
   "metadata": {},
   "outputs": [
    {
     "name": "stdout",
     "output_type": "stream",
     "text": [
      "Working on test data with Ridge(random_state=42) model\n",
      "Model: [Ridge(random_state=42)],\n",
      " Score: [{'mae': 556.6264189390369, 'mse': 311845.5347276112, 'rmse': 558.4313160341308, 'r2': -5.408128113280228}],\n",
      " Model's parameter: [Ridge(alpha=0.1, random_state=42, solver='lsqr')]\n"
     ]
    }
   ],
   "source": [
    "main(params)"
   ]
  }
 ],
 "metadata": {
  "interpreter": {
   "hash": "49de8e361bcaa7b87b0d9a1948e17b94b1b6765468a847b75af4a4273d6c7723"
  },
  "kernelspec": {
   "display_name": "Python 3.8.10 64-bit (windows store)",
   "language": "python",
   "name": "python3"
  },
  "language_info": {
   "codemirror_mode": {
    "name": "ipython",
    "version": 3
   },
   "file_extension": ".py",
   "mimetype": "text/x-python",
   "name": "python",
   "nbconvert_exporter": "python",
   "pygments_lexer": "ipython3",
   "version": "3.8.10"
  },
  "orig_nbformat": 4
 },
 "nbformat": 4,
 "nbformat_minor": 2
}
