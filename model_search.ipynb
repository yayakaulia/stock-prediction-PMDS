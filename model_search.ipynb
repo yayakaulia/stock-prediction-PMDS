{
 "cells": [
  {
   "cell_type": "code",
   "execution_count": 1,
   "metadata": {},
   "outputs": [],
   "source": [
    "import pandas as pd\n",
    "import numpy as np\n",
    "from sklearn.model_selection import RandomizedSearchCV\n",
    "from sklearn import model_selection\n",
    "from sklearn.tree import DecisionTreeRegressor\n",
    "from sklearn.ensemble import RandomForestRegressor\n",
    "from sklearn.linear_model import Ridge\n",
    "from sklearn.linear_model import Lasso\n",
    "from sklearn.svm import SVR\n",
    "from sklearn import metrics\n",
    "import random\n",
    "import yaml\n",
    "import joblib"
   ]
  },
  {
   "cell_type": "code",
   "execution_count": 2,
   "metadata": {},
   "outputs": [],
   "source": [
    "f = open(\"params.yaml\", \"r\")\n",
    "params = yaml.load(f, Loader=yaml.SafeLoader)\n",
    "f.close()"
   ]
  },
  {
   "cell_type": "code",
   "execution_count": 3,
   "metadata": {},
   "outputs": [],
   "source": [
    "def read_data(params):\n",
    "    x_train = joblib.load(params['DUMP_TRAIN'])\n",
    "    y_train = joblib.load(params['Y_PATH_TRAIN'])\n",
    "    x_valid = joblib.load(params['DUMP_VALID'])\n",
    "    y_valid = joblib.load(params['Y_PATH_VALID'])\n",
    "\n",
    "    return x_train, y_train, x_valid, y_valid"
   ]
  },
  {
   "cell_type": "code",
   "execution_count": 190,
   "metadata": {},
   "outputs": [],
   "source": [
    "from sklearn.model_selection import RandomizedSearchCV\n",
    "from sklearn import model_selection\n",
    "from sklearn.ensemble import RandomForestRegressor\n",
    "from sklearn.linear_model import Ridge\n",
    "from sklearn.linear_model import Lasso\n",
    "from sklearn.svm import LinearSVR\n",
    "from sklearn import metrics\n",
    "from sklearn.model_selection import TimeSeriesSplit\n",
    "from sklearn.preprocessing import StandardScaler\n",
    "import yaml\n",
    "from xgboost import XGBRegressor\n",
    "\n",
    "x_train, y_train, x_valid, y_valid  = read_data(params)\n",
    "\n",
    "def model_search(x_train, y_train):\n",
    "    ts_cv = TimeSeriesSplit(\n",
    "        n_splits=5,\n",
    "        max_train_size=None,\n",
    "    )\n",
    "\n",
    "    models = []\n",
    "    models.append(('RandomForrest', RandomForestRegressor()))\n",
    "    models.append(('Lasso', Lasso()))\n",
    "    models.append(('Ridge', Ridge()))\n",
    "    models.append(('SVR', LinearSVR()))\n",
    "    \n",
    "    results = []\n",
    "    names = []\n",
    "    scoring = 'neg_mean_absolute_error'\n",
    "    for name, model in models:\n",
    "        #kfold = model_selection.KFold(n_splits=5, shuffle=False)\n",
    "        cv_results = model_selection.cross_val_score(model, x_train, y_train, cv=ts_cv, scoring=scoring)\n",
    "        results.append(cv_results)\n",
    "        names.append(name)\n",
    "    results_mean = [sum(x)/5 for x in results]\n",
    "    df = pd.DataFrame(list(zip(names, results_mean)), columns =['model', 'score'])\n",
    "    df = df.set_index('model')\n",
    "    mode_name = df.idxmax()\n",
    "    mkd = mode_name[0]\n",
    "    return mkd"
   ]
  },
  {
   "cell_type": "code",
   "execution_count": 5,
   "metadata": {},
   "outputs": [],
   "source": [
    "def normalization(x_all,\n",
    "                  state = 'fit'):\n",
    "    index = x_all.index\n",
    "    cols = x_all.columns\n",
    "    \n",
    "\n",
    "    if state == 'fit':\n",
    "        normalizer = StandardScaler()\n",
    "        normalizer.fit(x_all)\n",
    "        joblib.dump(normalizer,\n",
    "                    \"output/normalizer.pkl\")\n",
    "\n",
    "    elif state == 'transform':\n",
    "        normalizer = joblib.load(\"output/normalizer.pkl\")\n",
    "        \n",
    "    normalized = normalizer.transform(x_all)\n",
    "    normalized = pd.DataFrame(normalized)\n",
    "    normalized.index = index\n",
    "    normalized.columns = cols\n",
    "    return normalized"
   ]
  },
  {
   "cell_type": "code",
   "execution_count": 6,
   "metadata": {},
   "outputs": [],
   "source": [
    "x_train_normalised = normalization(x_train)"
   ]
  },
  {
   "cell_type": "code",
   "execution_count": 191,
   "metadata": {},
   "outputs": [
    {
     "data": {
      "text/plain": [
       "'Ridge'"
      ]
     },
     "execution_count": 191,
     "metadata": {},
     "output_type": "execute_result"
    }
   ],
   "source": [
    "yut = model_search(x_train_normalised, y_train)\n",
    "yut"
   ]
  }
 ],
 "metadata": {
  "interpreter": {
   "hash": "49de8e361bcaa7b87b0d9a1948e17b94b1b6765468a847b75af4a4273d6c7723"
  },
  "kernelspec": {
   "display_name": "Python 3.8.10 64-bit (windows store)",
   "language": "python",
   "name": "python3"
  },
  "language_info": {
   "codemirror_mode": {
    "name": "ipython",
    "version": 3
   },
   "file_extension": ".py",
   "mimetype": "text/x-python",
   "name": "python",
   "nbconvert_exporter": "python",
   "pygments_lexer": "ipython3",
   "version": "3.8.10"
  },
  "orig_nbformat": 4
 },
 "nbformat": 4,
 "nbformat_minor": 2
}
