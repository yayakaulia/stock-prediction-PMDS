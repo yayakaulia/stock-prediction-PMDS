{
 "cells": [
  {
   "cell_type": "code",
   "execution_count": 3,
   "metadata": {},
   "outputs": [
    {
     "name": "stdout",
     "output_type": "stream",
     "text": [
      "ridge\n"
     ]
    }
   ],
   "source": [
    "import pandas as pd\n",
    "import numpy as np\n",
    "from sklearn import model_selection\n",
    "from sklearn.ensemble import RandomForestRegressor\n",
    "from sklearn.linear_model import Ridge\n",
    "from sklearn.linear_model import Lasso\n",
    "from sklearn.svm import LinearSVR\n",
    "from sklearn.model_selection import TimeSeriesSplit\n",
    "import yaml\n",
    "import joblib\n",
    "\n",
    "f = open(\"params.yaml\", \"r\")\n",
    "params = yaml.load(f, Loader=yaml.SafeLoader)\n",
    "f.close()\n",
    "\n",
    "def read_data(params):\n",
    "    x_train = joblib.load(params['DUMP_TRAIN'])\n",
    "    y_train = joblib.load(params['Y_PATH_TRAIN'])\n",
    "    x_valid = joblib.load(params['DUMP_VALID'])\n",
    "    y_valid = joblib.load(params['Y_PATH_VALID'])\n",
    "\n",
    "    return x_train, y_train, x_valid, y_valid\n",
    "x_train, y_train, x_valid, y_valid  = read_data(params)\n",
    "\n",
    "def model_search(x_train, y_train):\n",
    "    ts_cv = TimeSeriesSplit(\n",
    "        n_splits=5,\n",
    "        max_train_size=None,\n",
    "    )\n",
    "\n",
    "    models = []\n",
    "    models.append(('RandomForrest', RandomForestRegressor()))\n",
    "    models.append(('lasso', Lasso()))\n",
    "    models.append(('ridge', Ridge()))\n",
    "    models.append(('SVR', LinearSVR()))\n",
    "    \n",
    "    results = []\n",
    "    names = []\n",
    "    scoring = params[\"scoring\"]\n",
    "    for name, model in models:\n",
    "        #kfold = model_selection.KFold(n_splits=5, shuffle=False)\n",
    "        cv_results = model_selection.cross_val_score(model, x_train, y_train, cv=ts_cv, scoring=scoring)\n",
    "        results.append(cv_results)\n",
    "        names.append(name)\n",
    "    results_mean = [sum(x)/5 for x in results]\n",
    "    df = pd.DataFrame(list(zip(names, results_mean)), columns =['model', 'score'])\n",
    "    df = df.set_index('model')\n",
    "    max_model = df.idxmax()\n",
    "    best_model = max_model[0]\n",
    "    print(best_model)\n",
    "    joblib.dump(best_model, 'output/best_name.pkl')\n",
    "model_search(x_train, y_train)"
   ]
  }
 ],
 "metadata": {
  "interpreter": {
   "hash": "49de8e361bcaa7b87b0d9a1948e17b94b1b6765468a847b75af4a4273d6c7723"
  },
  "kernelspec": {
   "display_name": "Python 3.8.10 64-bit (windows store)",
   "language": "python",
   "name": "python3"
  },
  "language_info": {
   "codemirror_mode": {
    "name": "ipython",
    "version": 3
   },
   "file_extension": ".py",
   "mimetype": "text/x-python",
   "name": "python",
   "nbconvert_exporter": "python",
   "pygments_lexer": "ipython3",
   "version": "3.8.10"
  },
  "orig_nbformat": 4
 },
 "nbformat": 4,
 "nbformat_minor": 2
}
